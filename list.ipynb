{
 "cells": [
  {
   "cell_type": "code",
   "execution_count": 13,
   "metadata": {},
   "outputs": [
    {
     "name": "stdout",
     "output_type": "stream",
     "text": [
      "['ด.ช. สมชาย', 'นาง สมสมร', 'ด.ญ. สมศรี', 'นาย สมพงษ์', 'นางสาว สมทรง']\n",
      "ด.ญ. สมศรี\n"
     ]
    }
   ],
   "source": [
    "stdlist = [\"ด.ช. สมชาย\",\"นาง สมสมร\",\"ด.ญ. สมศรี\",\"นาย สมพงษ์\",\"นางสาว สมทรง\"]\n",
    "\n",
    "print(stdlist)\n",
    "print(stdlist[2])"
   ]
  },
  {
   "cell_type": "code",
   "execution_count": 23,
   "metadata": {},
   "outputs": [
    {
     "name": "stdout",
     "output_type": "stream",
     "text": [
      "['ด.ช. สมชาย', 'นาย สมพงษ์', 'นาย สมพงษ์', 'นาย สมพงษ์', 'นาย สมพงษ์', 'นาย สมพงษ์', 'นาย สมพงษ์']\n"
     ]
    }
   ],
   "source": [
    "stdlist[1] = \"นาย สมชาย\"\n",
    "stdlist.append(\"นาย สมพงษ์\")\n",
    "stdlist.pop(1)\n",
    "print(stdlist)"
   ]
  },
  {
   "cell_type": "code",
   "execution_count": 25,
   "metadata": {},
   "outputs": [
    {
     "name": "stdout",
     "output_type": "stream",
     "text": [
      "ด.ช. สมชาย\n",
      "นาย สมพงษ์\n",
      "นาย สมพงษ์\n",
      "นาย สมพงษ์\n",
      "นาย สมพงษ์\n",
      "นาย สมพงษ์\n",
      "นาย สมพงษ์\n"
     ]
    }
   ],
   "source": [
    "for i in stdlist:\n",
    "    print(i)"
   ]
  },
  {
   "cell_type": "code",
   "execution_count": 26,
   "metadata": {},
   "outputs": [
    {
     "name": "stdout",
     "output_type": "stream",
     "text": [
      "0 ด.ช. สมชาย\n",
      "1 นาย สมพงษ์\n",
      "2 นาย สมพงษ์\n",
      "3 นาย สมพงษ์\n",
      "4 นาย สมพงษ์\n",
      "5 นาย สมพงษ์\n",
      "6 นาย สมพงษ์\n"
     ]
    }
   ],
   "source": [
    "for i in range(len(stdlist)):\n",
    "    print(i, stdlist[i])"
   ]
  },
  {
   "cell_type": "code",
   "execution_count": 27,
   "metadata": {},
   "outputs": [
    {
     "name": "stdout",
     "output_type": "stream",
     "text": [
      "0 ด.ช. สมชาย\n",
      "1 นาย สมพงษ์\n",
      "2 นาย สมพงษ์\n",
      "3 นาย สมพงษ์\n",
      "4 นาย สมพงษ์\n",
      "5 นาย สมพงษ์\n",
      "6 นาย สมพงษ์\n"
     ]
    }
   ],
   "source": [
    "i = 0\n",
    "while i < len(stdlist):\n",
    "    print(i, stdlist[i])\n",
    "    i += 1"
   ]
  }
 ],
 "metadata": {
  "kernelspec": {
   "display_name": "Python 3",
   "language": "python",
   "name": "python3"
  },
  "language_info": {
   "codemirror_mode": {
    "name": "ipython",
    "version": 3
   },
   "file_extension": ".py",
   "mimetype": "text/x-python",
   "name": "python",
   "nbconvert_exporter": "python",
   "pygments_lexer": "ipython3",
   "version": "3.10.3"
  },
  "orig_nbformat": 4
 },
 "nbformat": 4,
 "nbformat_minor": 2
}
