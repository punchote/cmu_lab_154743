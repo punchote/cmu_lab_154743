{
 "cells": [
  {
   "cell_type": "code",
   "execution_count": 11,
   "metadata": {},
   "outputs": [
    {
     "name": "stdout",
     "output_type": "stream",
     "text": [
      "2\n",
      "2\n",
      "5\n",
      "('banana', 'cherry', 'apple')\n",
      "ชื่อ apple\n",
      "ชื่อ banana\n",
      "ชื่อ cherry\n",
      "ชื่อ apple\n",
      "ชื่อ cherry\n",
      "0\n",
      "1\n",
      "2\n",
      "3\n",
      "4\n"
     ]
    }
   ],
   "source": [
    "tp = (\"apple\", \"banana\", \"cherry\", \"apple\", \"cherry\")\n",
    "\n",
    "print(tp.count(\"apple\"))\n",
    "print(tp.count(\"cherry\"))\n",
    "print(len(tp))\n",
    "print(tp[1:4])\n",
    "\n",
    "for i in tp:\n",
    "    print(\"ชื่อ\",i)\n",
    "\n",
    "i = 0\n",
    "while i < len(tp):\n",
    "    print(tp[i])\n",
    "    i += 1"
   ]
  }
 ],
 "metadata": {
  "kernelspec": {
   "display_name": "Python 3",
   "language": "python",
   "name": "python3"
  },
  "language_info": {
   "codemirror_mode": {
    "name": "ipython",
    "version": 3
   },
   "file_extension": ".py",
   "mimetype": "text/x-python",
   "name": "python",
   "nbconvert_exporter": "python",
   "pygments_lexer": "ipython3",
   "version": "3.10.3"
  },
  "orig_nbformat": 4
 },
 "nbformat": 4,
 "nbformat_minor": 2
}
