{
 "cells": [
  {
   "cell_type": "code",
   "execution_count": 1,
   "metadata": {},
   "outputs": [
    {
     "name": "stdout",
     "output_type": "stream",
     "text": [
      "hello_world\n"
     ]
    }
   ],
   "source": [
    "print(\"hello_world\")"
   ]
  },
  {
   "cell_type": "code",
   "execution_count": 2,
   "metadata": {},
   "outputs": [
    {
     "name": "stdout",
     "output_type": "stream",
     "text": [
      "duck\n",
      "bird\n",
      "duck\n",
      "fish\n"
     ]
    }
   ],
   "source": [
    "# global variable\n",
    "x = \"duck\"\n",
    "print(x)\n",
    "def show_x():\n",
    "    # local variable\n",
    "    # global x\n",
    "    x = \"rabbit\"\n",
    "    x = \"bird\"\n",
    "    print(x)\n",
    "# call function\n",
    "show_x()\n",
    "print(x)\n",
    "x = \"fish\"\n",
    "print(x)"
   ]
  },
  {
   "attachments": {},
   "cell_type": "markdown",
   "metadata": {},
   "source": [
    "ทดลองการสร้างตัวเเปร\n",
    "a = 10"
   ]
  },
  {
   "cell_type": "code",
   "execution_count": 15,
   "metadata": {},
   "outputs": [
    {
     "name": "stdout",
     "output_type": "stream",
     "text": [
      "5 <class 'int'>\n",
      "hello <class 'str'>\n",
      "5.5 <class 'float'>\n",
      "True <class 'bool'>\n"
     ]
    }
   ],
   "source": [
    "_number = 5\n",
    "print(_number, type(_number))\n",
    "\n",
    "_text = \"hello\"\n",
    "print(_text, type(_text))\n",
    "\n",
    "_float = 5.5\n",
    "print(_float, type(_float))\n",
    "\n",
    "_boolean = True\n",
    "print(_boolean, type(_boolean))"
   ]
  },
  {
   "cell_type": "markdown",
   "metadata": {},
   "source": [
    "Indentation"
   ]
  },
  {
   "cell_type": "code",
   "execution_count": 5,
   "metadata": {},
   "outputs": [
    {
     "name": "stdout",
     "output_type": "stream",
     "text": [
      "True\n"
     ]
    }
   ],
   "source": [
    "if True:\n",
    "    print(True)\n",
    "else:\n",
    "    print(False)"
   ]
  }
 ],
 "metadata": {
  "kernelspec": {
   "display_name": "Python 3",
   "language": "python",
   "name": "python3"
  },
  "language_info": {
   "codemirror_mode": {
    "name": "ipython",
    "version": 3
   },
   "file_extension": ".py",
   "mimetype": "text/x-python",
   "name": "python",
   "nbconvert_exporter": "python",
   "pygments_lexer": "ipython3",
   "version": "3.10.3"
  },
  "orig_nbformat": 4
 },
 "nbformat": 4,
 "nbformat_minor": 2
}
