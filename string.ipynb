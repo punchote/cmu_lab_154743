{
 "cells": [
  {
   "cell_type": "code",
   "execution_count": 16,
   "metadata": {},
   "outputs": [
    {
     "name": "stdout",
     "output_type": "stream",
     "text": [
      "Chote Weerakul\n",
      "W\n",
      "14\n",
      "Chote\n",
      "Weerakul\n",
      "Wee\n",
      "Wee\n"
     ]
    }
   ],
   "source": [
    "name = \"Chote Weerakul\"\n",
    "\n",
    "print (name)\n",
    "print (name[6])\n",
    "print (len(name))\n",
    "print (name[:5])\n",
    "print (name[6:])\n",
    "print (name[6:9])\n",
    "print (name[-8:-5])"
   ]
  },
  {
   "cell_type": "code",
   "execution_count": 31,
   "metadata": {},
   "outputs": [
    {
     "name": "stdout",
     "output_type": "stream",
     "text": [
      "CHOTE WEERAKUL\n",
      "chote weerakul\n",
      " Weerakul\n",
      "WEERAKUL\n",
      "Teerakul\n"
     ]
    }
   ],
   "source": [
    "print (name.upper())\n",
    "print (name.lower())\n",
    "name2 = (name[5:])\n",
    "print (name2)\n",
    "print (name2.strip().upper())\n",
    "name3 = (name2.replace(\"W\",\"T\").strip())\n",
    "print(name3)"
   ]
  },
  {
   "cell_type": "code",
   "execution_count": 37,
   "metadata": {},
   "outputs": [
    {
     "name": "stdout",
     "output_type": "stream",
     "text": [
      "ชื่อ โชติ วีระกุล อายุ 22 ปี\n"
     ]
    }
   ],
   "source": [
    "name = \"โชติ วีระกุล\"\n",
    "age = 22\n",
    "information = \"ชื่อ {} อายุ {} ปี\"\n",
    "print(information.format(name, age))"
   ]
  },
  {
   "cell_type": "code",
   "execution_count": 39,
   "metadata": {},
   "outputs": [
    {
     "name": "stdout",
     "output_type": "stream",
     "text": [
      "อายุ 22 ปี ชื่อ โชติ วีระกุล \n"
     ]
    }
   ],
   "source": [
    "information = \"อายุ {1} ปี ชื่อ {0} \"\n",
    "print(information.format(name, age))"
   ]
  },
  {
   "cell_type": "code",
   "execution_count": 41,
   "metadata": {},
   "outputs": [
    {
     "name": "stdout",
     "output_type": "stream",
     "text": [
      "ชื่อ โชติ วีระกุล อายุ 22 ปี\n"
     ]
    }
   ],
   "source": [
    "information = \"ชื่อ {n} อายุ {a} ปี\"\n",
    "print(information.format(n=name, a=age))"
   ]
  },
  {
   "cell_type": "code",
   "execution_count": 44,
   "metadata": {},
   "outputs": [
    {
     "name": "stdout",
     "output_type": "stream",
     "text": [
      "ชื่อ โชติ วีระกุล อายุ 22 ปี\n"
     ]
    }
   ],
   "source": [
    "age = 22\n",
    "print(\"ชื่อ %s อายุ %d ปี\" % (name, age))"
   ]
  },
  {
   "cell_type": "code",
   "execution_count": 55,
   "metadata": {},
   "outputs": [
    {
     "name": "stdout",
     "output_type": "stream",
     "text": [
      "ชื่อ โชติ วีระกุล ภาควิชาภูมิศาสตร์ อายุ 25 ปี\n"
     ]
    }
   ],
   "source": [
    "const = 3\n",
    "dept = \"ภาควิชาภูมิศาสตร์\"\n",
    "desc = f\"ชื่อ {name} {dept} อายุ {age + const} ปี\"\n",
    "print(desc)"
   ]
  }
 ],
 "metadata": {
  "kernelspec": {
   "display_name": "Python 3",
   "language": "python",
   "name": "python3"
  },
  "language_info": {
   "codemirror_mode": {
    "name": "ipython",
    "version": 3
   },
   "file_extension": ".py",
   "mimetype": "text/x-python",
   "name": "python",
   "nbconvert_exporter": "python",
   "pygments_lexer": "ipython3",
   "version": "3.10.3"
  },
  "orig_nbformat": 4
 },
 "nbformat": 4,
 "nbformat_minor": 2
}
